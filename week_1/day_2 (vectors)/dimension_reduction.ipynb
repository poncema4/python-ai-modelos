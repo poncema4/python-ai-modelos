{
 "cells": [
  {
   "cell_type": "markdown",
   "metadata": {},
   "source": [
    "## Reducción de dimensiones de vectores\n",
    "\n",
    "Cuando un modelo de embeddings soporta MRL (Matryoshka Representation Learning o Aprendizaje de Representación Matryoshka), podemos usarlo para reducir la dimensionalidad de los vectores. Para índices vectoriales grandes, esto puede ayudar a acelerar la búsqueda y reducir los costos de almacenamiento."
   ]
  },
  {
   "cell_type": "code",
   "execution_count": null,
   "metadata": {},
   "outputs": [],
   "source": [
    "# Cargamos los vectores desde movies.json, {movie: [vector]}\n",
    "import json\n",
    "\n",
    "with open('embeddings/peliculas_text-embedding-3-small-1536.json') as f:\n",
    "    movies_1536 = json.load(f)\n",
    "\n",
    "with open('embeddings/peliculas_text-embedding-3-small-256.json') as f:\n",
    "    movies_256t = json.load(f)\n",
    "\n",
    "print(len(movies_1536['El Rey León']))\n",
    "print(movies_1536['El Rey León'][0:4])\n",
    "\n",
    "print(len(movies_256t['El Rey León']))\n",
    "print(movies_256t['El Rey León'][0:4])"
   ]
  },
  {
   "cell_type": "code",
   "execution_count": null,
   "metadata": {},
   "outputs": [],
   "source": [
    "import matplotlib.pyplot as plt\n",
    "\n",
    "\n",
    "def render_vector(vector):\n",
    "    \"\"\"Visualizar los valores del vector en un bar chart\"\"\"\n",
    "    plt.bar(range(len(vector)), vector)\n",
    "    plt.xlabel('Dimension')\n",
    "    plt.ylabel('Value')\n",
    "    plt.show()\n",
    "\n",
    "render_vector(movies_1536['El Rey León'])\n",
    "render_vector(movies_256t['El Rey León'])"
   ]
  },
  {
   "cell_type": "markdown",
   "metadata": {},
   "source": [
    "## Effect on similarity space"
   ]
  },
  {
   "cell_type": "code",
   "execution_count": null,
   "metadata": {},
   "outputs": [],
   "source": [
    "# 10 peliculas mas similares \n",
    "import pandas as pd\n",
    "from sklearn.metrics.pairwise import cosine_similarity\n",
    "\n",
    "def most_similar(movie, movies):\n",
    "    movie_vec = movies[movie]\n",
    "    similarities = {k: cosine_similarity([movie_vec], [v])[0][0] for k, v in movies.items()}\n",
    "    closest = sorted(similarities.items(), key=lambda x: x[1], reverse=True)\n",
    "    df = pd.DataFrame(closest, columns=['pelicula', 'similitud'])\n",
    "    return df\n",
    "\n",
    "most_similar('El Rey León', movies_1536)[:10]"
   ]
  },
  {
   "cell_type": "code",
   "execution_count": null,
   "metadata": {},
   "outputs": [],
   "source": [
    "most_similar('El Rey León', movies_256t)[:10]"
   ]
  },
  {
   "cell_type": "markdown",
   "metadata": {},
   "source": [
    "## Comparación de tamaño"
   ]
  },
  {
   "cell_type": "code",
   "execution_count": null,
   "metadata": {},
   "outputs": [],
   "source": [
    "import sys\n",
    "\n",
    "pd.DataFrame({\n",
    "    '1536': [sys.getsizeof(movies_1536['El Rey León'])],\n",
    "    '256': [sys.getsizeof(movies_256t['El Rey León'])],\n",
    "})"
   ]
  },
  {
   "cell_type": "code",
   "execution_count": null,
   "metadata": {},
   "outputs": [],
   "source": [
    "sys.getsizeof(movies_1536['El Rey León'])/sys.getsizeof(movies_256t['El Rey León'])"
   ]
  },
  {
   "cell_type": "markdown",
   "metadata": {},
   "source": [
    "## Recursos\n",
    "\n",
    "* [Unboxing Nomic Embed v1.5: Resizable Production Embeddings with MRL](https://www.nomic.ai/blog/posts/nomic-embed-matryoshka)\n",
    "* [MRL from the Ground Up](https://aniketrege.github.io/blog/2024/mrl/)\n"
   ]
  }
 ],
 "metadata": {
  "kernelspec": {
   "display_name": "Python 3",
   "language": "python",
   "name": "python3"
  },
  "language_info": {
   "codemirror_mode": {
    "name": "ipython",
    "version": 3
   },
   "file_extension": ".py",
   "mimetype": "text/x-python",
   "name": "python",
   "nbconvert_exporter": "python",
   "pygments_lexer": "ipython3",
   "version": "3.13.7"
  }
 },
 "nbformat": 4,
 "nbformat_minor": 2
}
