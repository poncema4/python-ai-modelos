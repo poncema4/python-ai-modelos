{
 "cells": [
  {
   "cell_type": "code",
   "execution_count": null,
   "id": "8938063f",
   "metadata": {},
   "outputs": [],
   "source": [
    "import os\n",
    "import openai\n",
    "from dotenv import load_dotenv\n",
    "\n",
    "load_dotenv()\n",
    "\n",
    "openai_client = openai.OpenAI(\n",
    "    base_url=os.environ[\"AZURE_OPENAI_ENDPOINT\"] + \"/openai/v1/\",\n",
    "    api_key=os.environ[\"AZURE_OPENAI_API_KEY\"],\n",
    ")\n",
    "MODEL_NAME = os.environ[\"AZURE_OPENAI_EMBEDDING_DEPLOYMENT\"]\n",
    "MODEL_DIMENSIONS = int(os.environ[\"AZURE_OPENAI_EMBEDDING_DIMENSIONS\"])"
   ]
  },
  {
   "cell_type": "code",
   "execution_count": null,
   "id": "95df676d",
   "metadata": {},
   "outputs": [],
   "source": [
    "import os\n",
    "\n",
    "from azure.identity import DefaultAzureCredential, get_bearer_token_provider\n",
    "from dotenv import load_dotenv\n",
    "from openai import OpenAI\n",
    "\n",
    "load_dotenv()\n",
    "\n",
    "azure_credential = DefaultAzureCredential()\n",
    "token_provider = get_bearer_token_provider(azure_credential, \"https://cognitiveservices.azure.com/.default\")\n",
    "openai_client = OpenAI(\n",
    "    base_url=os.environ[\"AZURE_OPENAI_ENDPOINT\"] + \"/openai/v1/\",\n",
    "    api_key=token_provider,\n",
    ")\n",
    "MODEL_NAME = os.environ[\"AZURE_OPENAI_EMBEDDING_DEPLOYMENT\"]\n",
    "MODEL_DIMENSIONS = int(os.environ[\"AZURE_OPENAI_EMBEDDING_DIMENSIONS\"])"
   ]
  },
  {
   "cell_type": "code",
   "execution_count": null,
   "id": "a5c24d77",
   "metadata": {},
   "outputs": [],
   "source": [
    "embeddings_response = openai_client.embeddings.create(\n",
    "    model=MODEL_NAME,\n",
    "    dimensions=MODEL_DIMENSIONS,\n",
    "    input=\"hola mundo\",\n",
    ")\n",
    "embedding = embeddings_response.data[0].embedding\n",
    "\n",
    "print(len(embedding))\n",
    "print(embedding)"
   ]
  }
 ],
 "metadata": {
  "kernelspec": {
   "display_name": "Python 3",
   "language": "python",
   "name": "python3"
  },
  "language_info": {
   "codemirror_mode": {
    "name": "ipython",
    "version": 3
   },
   "file_extension": ".py",
   "mimetype": "text/x-python",
   "name": "python",
   "nbconvert_exporter": "python",
   "pygments_lexer": "ipython3",
   "version": "3.13.7"
  }
 },
 "nbformat": 4,
 "nbformat_minor": 5
}
