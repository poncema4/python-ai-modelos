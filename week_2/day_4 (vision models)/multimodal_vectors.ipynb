{
 "cells": [
  {
   "cell_type": "markdown",
   "metadata": {},
   "source": [
    "# Vectores Multi-modal\n",
    "\n",
    "Estos vectores provienen del modelo de embeddings multimodal Azure AI Vision, que puede representar tanto texto como imágenes en un espacio de 1024 dimensiones.\n"
   ]
  },
  {
   "cell_type": "code",
   "execution_count": null,
   "metadata": {},
   "outputs": [],
   "source": [
    "import json\n",
    "\n",
    "with open('embeddings/images_ai-vision.json') as f:\n",
    "    image_vectors = json.load(f)\n",
    "\n",
    "with open('embeddings/sustantivos_ai-vision.json') as f:\n",
    "    word_vectors = json.load(f)"
   ]
  },
  {
   "cell_type": "code",
   "execution_count": null,
   "metadata": {},
   "outputs": [],
   "source": [
    "import random\n",
    "\n",
    "import matplotlib.pyplot as plt\n",
    "\n",
    "random_image_name = random.choice(list(image_vectors.keys()))\n",
    "vector = image_vectors[random_image_name]\n",
    "\n",
    "plt.bar(range(len(vector)), vector)\n",
    "plt.xlabel('Dimension')\n",
    "plt.ylabel('Value')\n",
    "plt.show()"
   ]
  },
  {
   "cell_type": "markdown",
   "metadata": {},
   "source": [
    "## Más similares a una imagen objetivo"
   ]
  },
  {
   "cell_type": "code",
   "execution_count": null,
   "metadata": {},
   "outputs": [],
   "source": [
    "import pandas as pd\n",
    "\n",
    "def cosine_similarity(v1, v2):\n",
    "    \"\"\"Calcula la similitud del coseno entre dos vectores\"\"\"\n",
    "    dot_product = sum([a * b for a, b in zip(v1, v2)])\n",
    "    magnitude = (sum([a**2 for a in v1]) * sum([a**2 for a in v2])) ** 0.5\n",
    "    return dot_product / magnitude\n",
    "\n",
    "def most_similar(target_vector: str, vectors: dict) -> list[list]:\n",
    "    \"\"\"Devuelve las imágenes más similares y sus similitudes respecto a las imágenes dadas\"\"\"\n",
    "    similarities = {w: cosine_similarity(target_vector, vector) for w, vector in vectors.items()}\n",
    "    most_similar = sorted(similarities, key=similarities.get, reverse=True)\n",
    "    return pd.DataFrame([(vector_key, similarities[vector_key]) for vector_key in most_similar], columns=['vector key', 'similarity'])\n"
   ]
  },
  {
   "cell_type": "code",
   "execution_count": null,
   "metadata": {},
   "outputs": [],
   "source": [
    "# Renderiza la imagen objetivo\n",
    "target_image = \"inhaleexhale_top.jpg\"\n",
    "plt.imshow(plt.imread(f\"../product_images/{target_image}\"))"
   ]
  },
  {
   "cell_type": "code",
   "execution_count": null,
   "metadata": {},
   "outputs": [],
   "source": [
    "most_similar_df = most_similar(image_vectors[target_image], image_vectors)[0:10]\n",
    "most_similar_df"
   ]
  },
  {
   "cell_type": "code",
   "execution_count": null,
   "metadata": {},
   "outputs": [],
   "source": [
    "# Ahora renderiza cada una de esas imágenes\n",
    "for image_name in most_similar_df['vector key'][1:]:\n",
    "    plt.imshow(plt.imread(f'../product_images/{image_name}'))\n",
    "    plt.axis('off')\n",
    "    plt.show()"
   ]
  },
  {
   "cell_type": "markdown",
   "metadata": {},
   "source": [
    "## Más similares a un texto"
   ]
  },
  {
   "cell_type": "code",
   "execution_count": null,
   "metadata": {},
   "outputs": [],
   "source": [
    "target_word = \"cama\"\n",
    "most_similar_df = most_similar(word_vectors[target_word], image_vectors)\n",
    "\n",
    "for image_name in most_similar_df['vector key'][0:10]:\n",
    "    plt.imshow(plt.imread(f'../product_images/{image_name}'))\n",
    "    plt.axis('off')\n",
    "    plt.show()"
   ]
  },
  {
   "cell_type": "markdown",
   "metadata": {},
   "source": [
    "## Búsqueda con vectores de consulta"
   ]
  },
  {
   "cell_type": "code",
   "execution_count": null,
   "metadata": {},
   "outputs": [],
   "source": [
    "import os\n",
    "\n",
    "import dotenv\n",
    "import requests\n",
    "from azure.identity import DefaultAzureCredential, get_bearer_token_provider\n",
    "\n",
    "dotenv.load_dotenv()\n",
    "\n",
    "azure_credential = DefaultAzureCredential()\n",
    "token_provider = get_bearer_token_provider(azure_credential, \"https://cognitiveservices.azure.com/.default\")\n",
    "AZURE_AI_VISION_ENDPOINT = os.environ[\"AZURE_AI_VISION_ENDPOINT\"]\n",
    "AZURE_AI_VISION_URL = f\"{AZURE_AI_VISION_ENDPOINT}/computervision/retrieval\"\n",
    "\n",
    "def get_model_params():\n",
    "    return {\"api-version\": \"2024-02-01\", \"model-version\": \"2023-04-15\"}\n",
    "\n",
    "def get_auth_headers():\n",
    "    return {\"Authorization\": \"Bearer \" + token_provider()}\n",
    "\n",
    "def get_text_embedding(text):\n",
    "    url = f\"{AZURE_AI_VISION_URL}:vectorizeText\"\n",
    "    response = requests.post(url, headers=get_auth_headers(), params=get_model_params(), json={\"text\": text})\n",
    "    if response.status_code != 200:\n",
    "        print(response.json().get(\"error\"))\n",
    "        return None\n",
    "    else:\n",
    "        return response.json()[\"vector\"]"
   ]
  },
  {
   "cell_type": "code",
   "execution_count": null,
   "metadata": {},
   "outputs": [],
   "source": [
    "embedding = get_text_embedding(\"niño\")\n",
    "most_similar_df = most_similar(embedding, image_vectors)\n",
    "\n",
    "for image_name in most_similar_df['vector key'][0:5]:\n",
    "    plt.imshow(plt.imread(f'../product_images/{image_name}'))\n",
    "    plt.axis('off')\n",
    "    plt.show()"
   ]
  },
  {
   "cell_type": "markdown",
   "metadata": {},
   "source": [
    "## Recursos\n",
    "\n",
    "* [Portlandia - She's making jewelry now](https://www.youtube.com/watch?v=Kg6H0Cd1_Jc)"
   ]
  }
 ],
 "metadata": {
  "kernelspec": {
   "display_name": ".venv (3.12.10)",
   "language": "python",
   "name": "python3"
  },
  "language_info": {
   "codemirror_mode": {
    "name": "ipython",
    "version": 3
   },
   "file_extension": ".py",
   "mimetype": "text/x-python",
   "name": "python",
   "nbconvert_exporter": "python",
   "pygments_lexer": "ipython3",
   "version": "3.12.10"
  }
 },
 "nbformat": 4,
 "nbformat_minor": 2
}
